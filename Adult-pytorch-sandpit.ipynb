{
 "cells": [
  {
   "cell_type": "code",
   "execution_count": 1,
   "metadata": {},
   "outputs": [
    {
     "name": "stdout",
     "output_type": "stream",
     "text": [
      "Warning! Tensorboard library was not found.\n"
     ]
    }
   ],
   "source": [
    "import time\n",
    "import copy\n",
    "import sys\n",
    "\n",
    "import torch\n",
    "import torch.nn as nn\n",
    "import torch.nn.functional as F\n",
    "import torch.optim as optim\n",
    "from torch.utils.data import TensorDataset, DataLoader\n",
    "\n",
    "from torchdp import PrivacyEngine\n",
    "\n",
    "import numpy as np\n",
    "%matplotlib inline\n",
    "import matplotlib.pyplot as plt\n",
    "from matplotlib.figure import Figure\n",
    "import pandas as pd\n",
    "import seaborn as sns\n",
    "\n",
    "from sklearn.datasets import load_iris\n",
    "from sklearn.model_selection import train_test_split\n",
    "from sklearn.metrics import confusion_matrix, precision_score, recall_score, f1_score"
   ]
  },
  {
   "cell_type": "code",
   "execution_count": 229,
   "metadata": {},
   "outputs": [],
   "source": [
    "class Arguments:\n",
    "    \"\"\"Parameters for training\"\"\"\n",
    "    def __init__(self):\n",
    "        self.epochs = 10\n",
    "        self.iterations = 1\n",
    "        self.lr = 0.01\n",
    "        self.shuffle_dataset = True\n",
    "        self.batch_size = 8\n",
    "        self.test_batch_size = 8\n",
    "        self.log_interval = 10\n",
    "        self.seed = 1\n",
    "        self.disable_federated = True\n",
    "        self.disable_dp = False\n",
    "        self.alphas=[1.1, 2, 4, 10]\n",
    "        self.delta = 1.0\n",
    "        self.workers = 1\n",
    "        self.disable_verbose_training = True\n",
    "    \n",
    "\n",
    "args = Arguments()\n",
    "\n",
    "torch.manual_seed(args.seed)\n",
    "kwargs = {}"
   ]
  },
  {
   "cell_type": "code",
   "execution_count": 230,
   "metadata": {},
   "outputs": [],
   "source": [
    "def load_adult(args):\n",
    "\n",
    "    data_file = \"/home/gwyn/dev/webapp/test/fed-iris/data/adult.data\"\n",
    "    data_names = ['age', 'workclass', 'fnlwgt', 'education', 'education-num',\n",
    "                  'marital-status', 'occupation', 'relationship', 'race', \n",
    "                  'sex', 'capital-gain', 'capital-loss', 'hours-per-week', \n",
    "                  'native-country', 'income']\n",
    "\n",
    "    dataframe = pd.read_csv(data_file, names=data_names)\n",
    "    for i in dataframe.columns:\n",
    "        dataframe[i].replace(' ?', np.nan, inplace=True)\n",
    "    dataframe.dropna(inplace=True)\n",
    "    dataframe.drop(['fnlwgt'], axis=1, inplace=True)\n",
    "\n",
    "    # This needs to be run multiple times to capture all categorical data, for some reason\n",
    "    for _ in range(1,5):\n",
    "        for i in range(dataframe.shape[1]):\n",
    "            # check if string data, skip if false\n",
    "            if type(dataframe.iloc[1,i]) == str:\n",
    "            # list uniques in column\n",
    "                unique_classes = list(dataframe.iloc[: , i].unique())\n",
    "            # add binary field for unique with true\n",
    "                for unique_class in unique_classes:            \n",
    "                    dataframe[unique_class.replace('-','').strip()] = dataframe.iloc[:,i] == unique_class\n",
    "                dataframe.drop(axis=1, columns=dataframe.columns[i], inplace=True)\n",
    "\n",
    "    X = np.array(dataframe.drop('>50K',axis=1).values, dtype='float64')\n",
    "    y = np.array(dataframe['>50K'].values, dtype='float64')\n",
    "    \n",
    "    X_train, X_test, y_train, y_test = train_test_split(X,y, random_state=0, shuffle=args.shuffle_dataset)\n",
    "    \n",
    "    return X_train, X_test, y_train, y_test"
   ]
  },
  {
   "cell_type": "code",
   "execution_count": 231,
   "metadata": {},
   "outputs": [],
   "source": [
    "# separates data and labels and initialises data loaders\n",
    "def prepare_data(X_train, X_test, y_train, y_test, shuffle_dataset, batch_size, num_workers):\n",
    "\n",
    "    # Initialise train_loaders list for storing each worker's train_loader\n",
    "    train_loaders = list()\n",
    "\n",
    "    # Split training data equally among all workers\n",
    "    remote_X_train = list()\n",
    "    remote_X_train.append(np.array_split(X_train, num_workers))\n",
    "\n",
    "    # Split training labels equally among all workers\n",
    "    remote_y_train = list()    \n",
    "    remote_y_train.append(np.array_split(y_train, num_workers))\n",
    "\n",
    "    # This looks like it's reinitialising these variables as their index 0 values,\n",
    "    # but it's actually discarding an unwanted outer object layer so that we can directly \n",
    "    # reference the data/target lists.\n",
    "    remote_X_train = remote_X_train[0]\n",
    "    remote_y_train = remote_y_train[0]\n",
    "\n",
    "    # Convert training data & labels into torch tensors, then into datasets, then into dataloaders\n",
    "    for i in range(len(remote_X_train)):\n",
    "        remote_X_train[i] = torch.tensor(remote_X_train[i]).float()\n",
    "        remote_y_train[i] = torch.tensor(remote_y_train[i]).float()\n",
    "        train = TensorDataset(remote_X_train[i], remote_y_train[i])\n",
    "        train_loaders.append(DataLoader(train, batch_size=batch_size, shuffle=True))\n",
    "\n",
    "    # Standard test loader setup as we only need one\n",
    "    X_test = torch.from_numpy(X_test).float()\n",
    "    y_test = torch.from_numpy(y_test).float()\n",
    "    test = TensorDataset(X_test, y_test)\n",
    "    test_loader = DataLoader(test, batch_size=batch_size, shuffle=True)\n",
    "\n",
    "    return train_loaders, test_loader"
   ]
  },
  {
   "cell_type": "code",
   "execution_count": 232,
   "metadata": {},
   "outputs": [],
   "source": [
    "# Set up a model, optimiser and renyi privacy engine for each worker (only call if DP is needed)\n",
    "def prepare_private_training(model, train_loaders, num_workers, batch_size, alphas, lr):\n",
    "    \n",
    "    model_pool = list()\n",
    "    optimizer_pool = list()\n",
    "    priv_eng_pool = list()\n",
    "\n",
    "    # We use deepcopy to make wholly independent copies of the shared model\n",
    "    for _ in range (num_workers):\n",
    "        model_pool.append(copy.deepcopy(model))\n",
    "\n",
    "    # We call the SGD constructor each time to ensure model updates are correctly applied\n",
    "    for model in model_pool:\n",
    "        opt = optim.SGD(model.parameters(), lr=lr)\n",
    "        optimizer_pool.append(opt)\n",
    "\n",
    "    # Attaches privacy engine for each model to each optimiser, effectively replacing\n",
    "    # gradient calculation functions with similar DP-enabled ones.\n",
    "    for i in range(len(model_pool)):    \n",
    "        privacy_engine = PrivacyEngine(\n",
    "                            model_pool[i],\n",
    "                            batch_size=batch_size,\n",
    "                            sample_size=len(train_loaders[i].dataset),\n",
    "                            alphas=alphas,\n",
    "                            noise_multiplier = 1.0,\n",
    "                            max_grad_norm = 1.0)\n",
    "\n",
    "        privacy_engine.attach(optimizer_pool[i])\n",
    "\n",
    "    return model_pool, optimizer_pool"
   ]
  },
  {
   "cell_type": "code",
   "execution_count": 233,
   "metadata": {},
   "outputs": [],
   "source": [
    "# Set up a model and optimiser for each worker (only call if DP is not needed)\n",
    "def prepare_training(model, train_loaders, num_workers, lr):\n",
    "    \n",
    "    model_pool = list()\n",
    "    optimizer_pool = list()\n",
    "\n",
    "    # We use deepcopy to make wholly independent copies of the shared model\n",
    "    for _ in range (num_workers):\n",
    "        model_pool.append(copy.deepcopy(model))\n",
    "\n",
    "    # We call the SGD constructor each time to ensure model updates are correctly applied\n",
    "    for model in model_pool:\n",
    "        opt = optim.SGD(model.parameters(), lr=lr)\n",
    "        optimizer_pool.append(opt)\n",
    "\n",
    "    return model_pool, optimizer_pool"
   ]
  },
  {
   "cell_type": "code",
   "execution_count": 234,
   "metadata": {},
   "outputs": [],
   "source": [
    "class Net(nn.Module):\n",
    "    # define nn\n",
    "    def __init__(self):\n",
    "        super(Net, self).__init__()\n",
    "        self.fc1 = nn.Linear(104, 20)\n",
    "        self.fc2 = nn.Linear(20, 1)\n",
    "        self.sigmoid = nn.Sigmoid()\n",
    "    \n",
    "    # pass-forward procedure using a relu and a softmax output\n",
    "    def forward(self, x):\n",
    "        x = x.view(-1, 104)\n",
    "        x = F.relu(self.fc1(x))\n",
    "        x = self.fc2(x)\n",
    "        x = self.sigmoid(x)\n",
    "        return x"
   ]
  },
  {
   "cell_type": "code",
   "execution_count": 235,
   "metadata": {},
   "outputs": [],
   "source": [
    "# Main model training routine\n",
    "def train(model, optimizer, train_loader, epoch, i, disable_verbose_training, disable_dp, delta):\n",
    "    model.train()\n",
    "\n",
    "    # We will store the cross-entropy loss to report it later    \n",
    "    losses = []\n",
    "\n",
    "    # Standard pytorch training loop\n",
    "    for _batch_idx, (data, target) in enumerate(train_loader):\n",
    "        optimizer.zero_grad()\n",
    "        pred = model(data)\n",
    "        #print(pred.view(-1,).data)\n",
    "        #print(target.view(-1,).data)\n",
    "        loss = F.binary_cross_entropy(pred.view(-1,), target)\n",
    "        loss.backward()\n",
    "        optimizer.step()\n",
    "        losses.append(loss.item())\n",
    "\n",
    "    if not disable_verbose_training:\n",
    "        # If DP is enabled, show our data leakage as we go along with loss output\n",
    "        if not disable_dp:\n",
    "            epsilon, best_alpha = optimizer.privacy_engine.get_privacy_spent(delta)\n",
    "            print(\n",
    "                    f\"Model ID: {i:2d}   \"\n",
    "                    f\"Train Epoch: {epoch:2d}   \"\n",
    "                    f\"Loss: {np.mean(losses):.6f} \"\n",
    "                    f\"(ε = {epsilon:.2f}, δ = {delta}) for α = {best_alpha}\"\n",
    "            )\n",
    "        else:\n",
    "            # If we are not using DP, just show the loss output \n",
    "            print(f\"Model ID: {i:2d}   Train Epoch: {epoch:2d}   Loss: {np.mean(losses):.6f}\")"
   ]
  },
  {
   "cell_type": "code",
   "execution_count": 236,
   "metadata": {},
   "outputs": [],
   "source": [
    "# When all workers have trained their local models, bring models together and average them\n",
    "def aggregate_models(models):\n",
    "\n",
    "    params = list()\n",
    "    num_workers = len(models)\n",
    "\n",
    "    # Deep copying the model parameters directly makes them easier to work with\n",
    "    for model_id in range(num_workers):\n",
    "        params.append(list(copy.deepcopy(models[model_id]).parameters()))\n",
    "\n",
    "        # Remove outer object layer of each parameter list so we can access it directly\n",
    "        for layer_id in range(len(params[0])):\n",
    "            params[model_id][layer_id] = params[model_id][layer_id].data\n",
    "\n",
    "    agg_params = list()\n",
    "\n",
    "    # Take the mean average of worker parameters at each model layer\n",
    "    for layer_id in range(len(params[0])):\n",
    "\n",
    "        agg_layer = params[0][layer_id]\n",
    "\n",
    "        for worker_id in range(1, num_workers):\n",
    "            agg_layer = agg_layer + params[worker_id][layer_id]\n",
    "\n",
    "        agg_layer = agg_layer / num_workers\n",
    "        agg_params.append(agg_layer)\n",
    "\n",
    "    # Initialise new shared model to be used, and access parameters directly\n",
    "    new_model = Net()\n",
    "    new_params = list(new_model.parameters())\n",
    "\n",
    "    # Turn off pytorch autograd and overwrite the new model parameters with the averaged params\n",
    "    with torch.no_grad():\n",
    "        for layer_index in range(len(new_params)):\n",
    "            new_params[layer_index].set_(agg_params[layer_index])\n",
    "\n",
    "    # This will be our new shared model for testing and further training\n",
    "    return new_model"
   ]
  },
  {
   "cell_type": "code",
   "execution_count": 237,
   "metadata": {},
   "outputs": [],
   "source": [
    "# Model Test routine\n",
    "def test(data_loader, model):\n",
    "\n",
    "    model.eval()\n",
    "    test_loss = 0\n",
    "\n",
    "    # Standard pytorch test loop\n",
    "    for data, target in data_loader:\n",
    "        output = model(data)\n",
    "        test_loss += F.cross_entropy(output, target, reduction='sum').item() # sum up batch loss\n",
    "        pred = output.data.max(1, keepdim=True)[1] # get the index of the max log-probability\n",
    "\n",
    "    # We take the mean of the testing set loss        \n",
    "    test_loss /= len(data_loader.dataset)\n",
    "\n",
    "    # We could print the test loss output or just return it.\n",
    "    # print('Test set: Average loss: {:.4f}\\n'.format(test_loss))\n",
    "    return test_loss"
   ]
  },
  {
   "cell_type": "code",
   "execution_count": 238,
   "metadata": {},
   "outputs": [],
   "source": [
    "def select_prepare_training(init_model, train_loaders, args):\n",
    "    # Case switch based on whether or not we want to use DP (see the Arguments class)\n",
    "    if not args.disable_dp:\n",
    "        models,opts = prepare_private_training(init_model, train_loaders, args.workers, args.batch_size, args.alphas, args.lr)\n",
    "    else:\n",
    "        models,opts = prepare_training(init_model, train_loaders, args.workers, args.lr)\n",
    "    \n",
    "    return models,opts"
   ]
  },
  {
   "cell_type": "code",
   "execution_count": 239,
   "metadata": {},
   "outputs": [
    {
     "name": "stdout",
     "output_type": "stream",
     "text": [
      "[False False False ...  True False False]\n",
      "[False False False ... False False False]\n",
      "Precision = 0.6874430576434535\n",
      "Recall = 0.7456570746585334\n",
      "F1 score = 0.6728768118511583\n",
      "[[5459  180]\n",
      " [1738  164]]\n",
      "1902\n",
      "344\n"
     ]
    },
    {
     "data": {
      "image/png": "[encoded data removed]",
      "text/plain": [
       "<Figure size 288x288 with 2 Axes>"
      ]
     },
     "metadata": {
      "needs_background": "light"
     },
     "output_type": "display_data"
    },
    {
     "data": {
      "image/png": "[encoded data removed]",
      "text/plain": [
       "<Figure size 648x432 with 1 Axes>"
      ]
     },
     "metadata": {
      "needs_background": "light"
     },
     "output_type": "display_data"
    }
   ],
   "source": [
    "# testing demo function to call all above functions and produce a federated learning model.\n",
    "init_model = Net()\n",
    "\n",
    "# Here we're using the Iris dataset - TODO change this for something more challenging\n",
    "X_train, X_test, y_train, y_test = load_adult(args)\n",
    "\n",
    "train_loaders, _ = prepare_data(X_train, X_test, y_train, y_test, args.shuffle_dataset, args.batch_size, args.workers)\n",
    "\n",
    "f1_scores = list()\n",
    "\n",
    "# Case switch based on whether or not we want to use DP (see the Arguments class)\n",
    "models,opts = select_prepare_training(init_model, train_loaders, args)\n",
    "\n",
    "# Train all of our worker models on their local data, then combine and aggregate their models\n",
    "for epoch in range(1,args.epochs+1):\n",
    "    for i in range(len(models)):\n",
    "        train(models[i], opts[i], train_loaders[i], epoch, i, args.disable_verbose_training, args.disable_dp, args.delta)\n",
    "    new_model = aggregate_models(models)\n",
    "    models,opts = select_prepare_training(new_model, train_loaders, args)\n",
    "    \n",
    "    # Every 5 epochs record the F1 Score of the aggregated model\n",
    "    if (epoch%1)==0:\n",
    "        with torch.no_grad():\n",
    "            pred = np.array(new_model(torch.tensor(X_test).float()))\n",
    "            y_pred = pred.reshape(-1,)[:] > 0.5\n",
    "            y_test = y_test.reshape(-1,)[:] > 0.5\n",
    "            f1_scores.append(f1_score(y_test, y_pred, average='weighted'))\n",
    "\n",
    "# Turn off pytorch autograd to run some scikit learn metrics (Precision, Recall, F1 score)\n",
    "with torch.no_grad():\n",
    "    pred = np.array(new_model(torch.tensor(X_test).float()))\n",
    "    y_pred = pred.reshape(-1,)[:] > 0.5\n",
    "    #y_test = y_test.reshape(-1,)[:] > 0.5\n",
    "    #print(y_test)\n",
    "    #print(y_pred)\n",
    " \n",
    "    print(f\"Precision = {precision_score(y_test, y_pred, average='weighted')}\")\n",
    "    print(f\"Recall = {recall_score(y_test, y_pred, average='weighted')}\")\n",
    "    print(f\"F1 score = {f1_score(y_test, y_pred, average='weighted')}\")\n",
    "\n",
    "    # Create a confusion matrix to see how well we perform on Iris\n",
    "    cm = confusion_matrix(y_test, y_pred)\n",
    "    \n",
    "    #print(cm)\n",
    "    \n",
    "    #print(y_test.sum())\n",
    "    #print(y_pred.sum())\n",
    "\n",
    "    # Display confusion matrix\n",
    "    plt.matshow(cm)\n",
    "    plt.title('Confusion Matrix')\n",
    "    plt.colorbar()\n",
    "    plt.ylabel('True label')\n",
    "    plt.xlabel('Predicted label')\n",
    "    plt.show()\n",
    "    \n",
    "    # Plot graph of F1 Score history over all epochs\n",
    "    plt.figure(figsize=(9,6))\n",
    "    plt.plot(range(1,args.epochs+1),f1_scores)\n",
    "    plt.title('Model F1 Score')\n",
    "    plt.ylabel('F1 Score')\n",
    "    plt.xlabel('Epoch')"
   ]
  },
  {
   "cell_type": "code",
   "execution_count": 224,
   "metadata": {},
   "outputs": [
    {
     "data": {
      "text/plain": [
       "(22621, 104)"
      ]
     },
     "execution_count": 224,
     "metadata": {},
     "output_type": "execute_result"
    }
   ],
   "source": [
    "X_train.shape"
   ]
  },
  {
   "cell_type": "code",
   "execution_count": null,
   "metadata": {},
   "outputs": [],
   "source": []
  },
  {
   "cell_type": "code",
   "execution_count": null,
   "metadata": {},
   "outputs": [],
   "source": []
  },
  {
   "cell_type": "code",
   "execution_count": null,
   "metadata": {},
   "outputs": [],
   "source": []
  },
  {
   "cell_type": "code",
   "execution_count": null,
   "metadata": {},
   "outputs": [],
   "source": []
  },
  {
   "cell_type": "code",
   "execution_count": null,
   "metadata": {},
   "outputs": [],
   "source": []
  },
  {
   "cell_type": "code",
   "execution_count": null,
   "metadata": {},
   "outputs": [],
   "source": []
  },
  {
   "cell_type": "code",
   "execution_count": null,
   "metadata": {},
   "outputs": [],
   "source": []
  },
  {
   "cell_type": "code",
   "execution_count": null,
   "metadata": {},
   "outputs": [],
   "source": []
  },
  {
   "cell_type": "code",
   "execution_count": null,
   "metadata": {},
   "outputs": [],
   "source": []
  },
  {
   "cell_type": "code",
   "execution_count": 96,
   "metadata": {},
   "outputs": [
    {
     "data": {
      "text/plain": [
       " <=50K    22654\n",
       " >50K      7508\n",
       "Name: income, dtype: int64"
      ]
     },
     "execution_count": 96,
     "metadata": {},
     "output_type": "execute_result"
    }
   ],
   "source": [
    "dataframe.income.value_counts()"
   ]
  },
  {
   "cell_type": "code",
   "execution_count": null,
   "metadata": {},
   "outputs": [],
   "source": []
  },
  {
   "cell_type": "code",
   "execution_count": 101,
   "metadata": {},
   "outputs": [
    {
     "data": {
      "text/plain": [
       "0.24892248524633645"
      ]
     },
     "execution_count": 101,
     "metadata": {},
     "output_type": "execute_result"
    }
   ],
   "source": [
    "dataframe.target.sum()/len(dataframe)"
   ]
  },
  {
   "cell_type": "code",
   "execution_count": 141,
   "metadata": {},
   "outputs": [
    {
     "ename": "AttributeError",
     "evalue": "'DataFrame' object has no attribute 'unique'",
     "output_type": "error",
     "traceback": [
      "\u001b[0;31m---------------------------------------------------------------------------\u001b[0m",
      "\u001b[0;31mAttributeError\u001b[0m                            Traceback (most recent call last)",
      "\u001b[0;32m<ipython-input-141-861bfd8b044a>\u001b[0m in \u001b[0;36m<module>\u001b[0;34m\u001b[0m\n\u001b[0;32m----> 1\u001b[0;31m \u001b[0mdataframe\u001b[0m\u001b[0;34m.\u001b[0m\u001b[0munique\u001b[0m\u001b[0;34m\u001b[0m\u001b[0;34m\u001b[0m\u001b[0m\n\u001b[0m",
      "\u001b[0;32m~/anaconda3/envs/pytorch/lib/python3.8/site-packages/pandas/core/generic.py\u001b[0m in \u001b[0;36m__getattr__\u001b[0;34m(self, name)\u001b[0m\n\u001b[1;32m   5272\u001b[0m             \u001b[0;32mif\u001b[0m \u001b[0mself\u001b[0m\u001b[0;34m.\u001b[0m\u001b[0m_info_axis\u001b[0m\u001b[0;34m.\u001b[0m\u001b[0m_can_hold_identifiers_and_holds_name\u001b[0m\u001b[0;34m(\u001b[0m\u001b[0mname\u001b[0m\u001b[0;34m)\u001b[0m\u001b[0;34m:\u001b[0m\u001b[0;34m\u001b[0m\u001b[0;34m\u001b[0m\u001b[0m\n\u001b[1;32m   5273\u001b[0m                 \u001b[0;32mreturn\u001b[0m \u001b[0mself\u001b[0m\u001b[0;34m[\u001b[0m\u001b[0mname\u001b[0m\u001b[0;34m]\u001b[0m\u001b[0;34m\u001b[0m\u001b[0;34m\u001b[0m\u001b[0m\n\u001b[0;32m-> 5274\u001b[0;31m             \u001b[0;32mreturn\u001b[0m \u001b[0mobject\u001b[0m\u001b[0;34m.\u001b[0m\u001b[0m__getattribute__\u001b[0m\u001b[0;34m(\u001b[0m\u001b[0mself\u001b[0m\u001b[0;34m,\u001b[0m \u001b[0mname\u001b[0m\u001b[0;34m)\u001b[0m\u001b[0;34m\u001b[0m\u001b[0;34m\u001b[0m\u001b[0m\n\u001b[0m\u001b[1;32m   5275\u001b[0m \u001b[0;34m\u001b[0m\u001b[0m\n\u001b[1;32m   5276\u001b[0m     \u001b[0;32mdef\u001b[0m \u001b[0m__setattr__\u001b[0m\u001b[0;34m(\u001b[0m\u001b[0mself\u001b[0m\u001b[0;34m,\u001b[0m \u001b[0mname\u001b[0m\u001b[0;34m:\u001b[0m \u001b[0mstr\u001b[0m\u001b[0;34m,\u001b[0m \u001b[0mvalue\u001b[0m\u001b[0;34m)\u001b[0m \u001b[0;34m->\u001b[0m \u001b[0;32mNone\u001b[0m\u001b[0;34m:\u001b[0m\u001b[0;34m\u001b[0m\u001b[0;34m\u001b[0m\u001b[0m\n",
      "\u001b[0;31mAttributeError\u001b[0m: 'DataFrame' object has no attribute 'unique'"
     ]
    }
   ],
   "source": [
    "dataframe.uniques"
   ]
  },
  {
   "cell_type": "code",
   "execution_count": 142,
   "metadata": {},
   "outputs": [
    {
     "data": {
      "text/plain": [
       "0                State-gov\n",
       "1         Self-emp-not-inc\n",
       "2                  Private\n",
       "3                  Private\n",
       "4                  Private\n",
       "               ...        \n",
       "32556              Private\n",
       "32557              Private\n",
       "32558              Private\n",
       "32559              Private\n",
       "32560         Self-emp-inc\n",
       "Name: workclass, Length: 30162, dtype: object"
      ]
     },
     "execution_count": 142,
     "metadata": {},
     "output_type": "execute_result"
    }
   ],
   "source": [
    "dataframe.workclass.unique()"
   ]
  },
  {
   "cell_type": "code",
   "execution_count": 199,
   "metadata": {},
   "outputs": [
    {
     "ename": "SyntaxError",
     "evalue": "invalid syntax (<ipython-input-199-670dbe372789>, line 1)",
     "output_type": "error",
     "traceback": [
      "\u001b[0;36m  File \u001b[0;32m\"<ipython-input-199-670dbe372789>\"\u001b[0;36m, line \u001b[0;32m1\u001b[0m\n\u001b[0;31m    dataframe.iloc[[:,1]  == ' Private', 'newclass'] = true\u001b[0m\n\u001b[0m                    ^\u001b[0m\n\u001b[0;31mSyntaxError\u001b[0m\u001b[0;31m:\u001b[0m invalid syntax\n"
     ]
    }
   ],
   "source": [
    "dataframe.iloc[[:,1]  == ' Private', 'newclass'] = true"
   ]
  },
  {
   "cell_type": "code",
   "execution_count": 182,
   "metadata": {},
   "outputs": [
    {
     "data": {
      "text/plain": [
       "False"
      ]
     },
     "execution_count": 182,
     "metadata": {},
     "output_type": "execute_result"
    }
   ],
   "source": [
    "type(dataframe.iloc[1,2]) == str"
   ]
  },
  {
   "cell_type": "code",
   "execution_count": 153,
   "metadata": {},
   "outputs": [
    {
     "data": {
      "text/plain": [
       "numpy.int64"
      ]
     },
     "execution_count": 153,
     "metadata": {},
     "output_type": "execute_result"
    }
   ],
   "source": [
    "type(dataframe.iloc[1,0])"
   ]
  },
  {
   "cell_type": "code",
   "execution_count": 160,
   "metadata": {},
   "outputs": [],
   "source": [
    "unique_classes = list(dataframe.iloc[: , 1].unique())"
   ]
  },
  {
   "cell_type": "code",
   "execution_count": 290,
   "metadata": {},
   "outputs": [
    {
     "data": {
      "text/plain": [
       "age                int64\n",
       "workclass         object\n",
       "fnlwgt             int64\n",
       "education         object\n",
       "education-num      int64\n",
       "marital-status    object\n",
       "occupation        object\n",
       "relationship      object\n",
       "race              object\n",
       "sex               object\n",
       "capital-gain       int64\n",
       "capital-loss       int64\n",
       "hours-per-week     int64\n",
       "native-country    object\n",
       "target            object\n",
       "dtype: object"
      ]
     },
     "execution_count": 290,
     "metadata": {},
     "output_type": "execute_result"
    }
   ],
   "source": [
    "dataframe.dtypes"
   ]
  },
  {
   "cell_type": "code",
   "execution_count": null,
   "metadata": {},
   "outputs": [],
   "source": [
    "for i in range(dataframe.shape[1]):\n",
    "    # check if string data, skip if false\n",
    "    if dataframe.dtypes[i] == 'O':\n",
    "    # list uniques in column\n",
    "        print(\"\\n\\n\" + dataframe.columns[i] + \"\\n\")\n",
    "        unique_classes = list(dataframe.iloc[: , i].unique())\n",
    "    # add binary field for unique with true\n",
    "        for unique_class in unique_classes: \n",
    "            print(unique_class)\n",
    "            dataframe[unique_class.replace('-','').strip()] = dataframe.iloc[:,i] == unique_class\n",
    "        dataframe.drop(axis=1, columns=dataframe.columns[i], inplace=True)\n",
    "    "
   ]
  },
  {
   "cell_type": "code",
   "execution_count": 346,
   "metadata": {},
   "outputs": [],
   "source": [
    "X = torch.from_numpy(np.array(dataframe.drop('>50K',axis=1).values, dtype='float64'))"
   ]
  },
  {
   "cell_type": "code",
   "execution_count": 347,
   "metadata": {},
   "outputs": [
    {
     "data": {
      "text/plain": [
       "torch.Size([30162, 104])"
      ]
     },
     "execution_count": 347,
     "metadata": {},
     "output_type": "execute_result"
    }
   ],
   "source": [
    "X.shape"
   ]
  },
  {
   "cell_type": "code",
   "execution_count": 310,
   "metadata": {},
   "outputs": [],
   "source": [
    "y = torch.from_numpy(np.array(dataframe['>50K'].values, dtype='bool'))"
   ]
  },
  {
   "cell_type": "code",
   "execution_count": 318,
   "metadata": {},
   "outputs": [
    {
     "data": {
      "text/plain": [
       "torch.Size([30162])"
      ]
     },
     "execution_count": 318,
     "metadata": {},
     "output_type": "execute_result"
    }
   ],
   "source": [
    "y.shape"
   ]
  },
  {
   "cell_type": "code",
   "execution_count": 183,
   "metadata": {},
   "outputs": [
    {
     "name": "stdout",
     "output_type": "stream",
     "text": [
      "False\n",
      "True\n",
      "False\n",
      "True\n",
      "False\n",
      "True\n",
      "True\n",
      "True\n",
      "True\n",
      "True\n",
      "False\n",
      "False\n",
      "False\n",
      "True\n",
      "False\n"
     ]
    }
   ],
   "source": [
    "for i in range(dataframe.shape[1]):\n",
    "    print(type(dataframe.iloc[1,i]) == str)"
   ]
  },
  {
   "cell_type": "code",
   "execution_count": 168,
   "metadata": {},
   "outputs": [
    {
     "data": {
      "text/plain": [
       "15"
      ]
     },
     "execution_count": 168,
     "metadata": {},
     "output_type": "execute_result"
    }
   ],
   "source": [
    "dataframe.shape[1]"
   ]
  },
  {
   "cell_type": "code",
   "execution_count": 264,
   "metadata": {},
   "outputs": [
    {
     "data": {
      "text/plain": [
       "dtype('O')"
      ]
     },
     "execution_count": 264,
     "metadata": {},
     "output_type": "execute_result"
    }
   ],
   "source": [
    "dataframe.dtypes[3]"
   ]
  },
  {
   "cell_type": "code",
   "execution_count": 266,
   "metadata": {},
   "outputs": [
    {
     "data": {
      "text/plain": [
       "True"
      ]
     },
     "execution_count": 266,
     "metadata": {},
     "output_type": "execute_result"
    }
   ],
   "source": [
    "dataframe.dtypes[3] == 'O'"
   ]
  },
  {
   "cell_type": "code",
   "execution_count": 329,
   "metadata": {},
   "outputs": [
    {
     "data": {
      "text/html": [
       "<div>\n",
       "<style scoped>\n",
       "    .dataframe tbody tr th:only-of-type {\n",
       "        vertical-align: middle;\n",
       "    }\n",
       "\n",
       "    .dataframe tbody tr th {\n",
       "        vertical-align: top;\n",
       "    }\n",
       "\n",
       "    .dataframe thead th {\n",
       "        text-align: right;\n",
       "    }\n",
       "</style>\n",
       "<table border=\"1\" class=\"dataframe\">\n",
       "  <thead>\n",
       "    <tr style=\"text-align: right;\">\n",
       "      <th></th>\n",
       "      <th>age</th>\n",
       "      <th>education-num</th>\n",
       "      <th>capital-gain</th>\n",
       "      <th>capital-loss</th>\n",
       "      <th>hours-per-week</th>\n",
       "      <th>Stategov</th>\n",
       "      <th>Selfempnotinc</th>\n",
       "      <th>Private</th>\n",
       "      <th>Federalgov</th>\n",
       "      <th>Localgov</th>\n",
       "      <th>...</th>\n",
       "      <th>Protectiveserv</th>\n",
       "      <th>ArmedForces</th>\n",
       "      <th>Privhouseserv</th>\n",
       "      <th>&lt;=50K</th>\n",
       "      <th>&gt;50K</th>\n",
       "      <th>White</th>\n",
       "      <th>Black</th>\n",
       "      <th>AsianPacIslander</th>\n",
       "      <th>AmerIndianEskimo</th>\n",
       "      <th>Other</th>\n",
       "    </tr>\n",
       "  </thead>\n",
       "  <tbody>\n",
       "    <tr>\n",
       "      <th>0</th>\n",
       "      <td>39</td>\n",
       "      <td>13</td>\n",
       "      <td>2174</td>\n",
       "      <td>0</td>\n",
       "      <td>40</td>\n",
       "      <td>True</td>\n",
       "      <td>False</td>\n",
       "      <td>False</td>\n",
       "      <td>False</td>\n",
       "      <td>False</td>\n",
       "      <td>...</td>\n",
       "      <td>False</td>\n",
       "      <td>False</td>\n",
       "      <td>False</td>\n",
       "      <td>True</td>\n",
       "      <td>False</td>\n",
       "      <td>True</td>\n",
       "      <td>False</td>\n",
       "      <td>False</td>\n",
       "      <td>False</td>\n",
       "      <td>False</td>\n",
       "    </tr>\n",
       "    <tr>\n",
       "      <th>1</th>\n",
       "      <td>50</td>\n",
       "      <td>13</td>\n",
       "      <td>0</td>\n",
       "      <td>0</td>\n",
       "      <td>13</td>\n",
       "      <td>False</td>\n",
       "      <td>True</td>\n",
       "      <td>False</td>\n",
       "      <td>False</td>\n",
       "      <td>False</td>\n",
       "      <td>...</td>\n",
       "      <td>False</td>\n",
       "      <td>False</td>\n",
       "      <td>False</td>\n",
       "      <td>True</td>\n",
       "      <td>False</td>\n",
       "      <td>True</td>\n",
       "      <td>False</td>\n",
       "      <td>False</td>\n",
       "      <td>False</td>\n",
       "      <td>False</td>\n",
       "    </tr>\n",
       "    <tr>\n",
       "      <th>2</th>\n",
       "      <td>38</td>\n",
       "      <td>9</td>\n",
       "      <td>0</td>\n",
       "      <td>0</td>\n",
       "      <td>40</td>\n",
       "      <td>False</td>\n",
       "      <td>False</td>\n",
       "      <td>True</td>\n",
       "      <td>False</td>\n",
       "      <td>False</td>\n",
       "      <td>...</td>\n",
       "      <td>False</td>\n",
       "      <td>False</td>\n",
       "      <td>False</td>\n",
       "      <td>True</td>\n",
       "      <td>False</td>\n",
       "      <td>True</td>\n",
       "      <td>False</td>\n",
       "      <td>False</td>\n",
       "      <td>False</td>\n",
       "      <td>False</td>\n",
       "    </tr>\n",
       "    <tr>\n",
       "      <th>3</th>\n",
       "      <td>53</td>\n",
       "      <td>7</td>\n",
       "      <td>0</td>\n",
       "      <td>0</td>\n",
       "      <td>40</td>\n",
       "      <td>False</td>\n",
       "      <td>False</td>\n",
       "      <td>True</td>\n",
       "      <td>False</td>\n",
       "      <td>False</td>\n",
       "      <td>...</td>\n",
       "      <td>False</td>\n",
       "      <td>False</td>\n",
       "      <td>False</td>\n",
       "      <td>True</td>\n",
       "      <td>False</td>\n",
       "      <td>False</td>\n",
       "      <td>True</td>\n",
       "      <td>False</td>\n",
       "      <td>False</td>\n",
       "      <td>False</td>\n",
       "    </tr>\n",
       "    <tr>\n",
       "      <th>4</th>\n",
       "      <td>28</td>\n",
       "      <td>13</td>\n",
       "      <td>0</td>\n",
       "      <td>0</td>\n",
       "      <td>40</td>\n",
       "      <td>False</td>\n",
       "      <td>False</td>\n",
       "      <td>True</td>\n",
       "      <td>False</td>\n",
       "      <td>False</td>\n",
       "      <td>...</td>\n",
       "      <td>False</td>\n",
       "      <td>False</td>\n",
       "      <td>False</td>\n",
       "      <td>True</td>\n",
       "      <td>False</td>\n",
       "      <td>False</td>\n",
       "      <td>True</td>\n",
       "      <td>False</td>\n",
       "      <td>False</td>\n",
       "      <td>False</td>\n",
       "    </tr>\n",
       "    <tr>\n",
       "      <th>...</th>\n",
       "      <td>...</td>\n",
       "      <td>...</td>\n",
       "      <td>...</td>\n",
       "      <td>...</td>\n",
       "      <td>...</td>\n",
       "      <td>...</td>\n",
       "      <td>...</td>\n",
       "      <td>...</td>\n",
       "      <td>...</td>\n",
       "      <td>...</td>\n",
       "      <td>...</td>\n",
       "      <td>...</td>\n",
       "      <td>...</td>\n",
       "      <td>...</td>\n",
       "      <td>...</td>\n",
       "      <td>...</td>\n",
       "      <td>...</td>\n",
       "      <td>...</td>\n",
       "      <td>...</td>\n",
       "      <td>...</td>\n",
       "      <td>...</td>\n",
       "    </tr>\n",
       "    <tr>\n",
       "      <th>32556</th>\n",
       "      <td>27</td>\n",
       "      <td>12</td>\n",
       "      <td>0</td>\n",
       "      <td>0</td>\n",
       "      <td>38</td>\n",
       "      <td>False</td>\n",
       "      <td>False</td>\n",
       "      <td>True</td>\n",
       "      <td>False</td>\n",
       "      <td>False</td>\n",
       "      <td>...</td>\n",
       "      <td>False</td>\n",
       "      <td>False</td>\n",
       "      <td>False</td>\n",
       "      <td>True</td>\n",
       "      <td>False</td>\n",
       "      <td>True</td>\n",
       "      <td>False</td>\n",
       "      <td>False</td>\n",
       "      <td>False</td>\n",
       "      <td>False</td>\n",
       "    </tr>\n",
       "    <tr>\n",
       "      <th>32557</th>\n",
       "      <td>40</td>\n",
       "      <td>9</td>\n",
       "      <td>0</td>\n",
       "      <td>0</td>\n",
       "      <td>40</td>\n",
       "      <td>False</td>\n",
       "      <td>False</td>\n",
       "      <td>True</td>\n",
       "      <td>False</td>\n",
       "      <td>False</td>\n",
       "      <td>...</td>\n",
       "      <td>False</td>\n",
       "      <td>False</td>\n",
       "      <td>False</td>\n",
       "      <td>False</td>\n",
       "      <td>True</td>\n",
       "      <td>True</td>\n",
       "      <td>False</td>\n",
       "      <td>False</td>\n",
       "      <td>False</td>\n",
       "      <td>False</td>\n",
       "    </tr>\n",
       "    <tr>\n",
       "      <th>32558</th>\n",
       "      <td>58</td>\n",
       "      <td>9</td>\n",
       "      <td>0</td>\n",
       "      <td>0</td>\n",
       "      <td>40</td>\n",
       "      <td>False</td>\n",
       "      <td>False</td>\n",
       "      <td>True</td>\n",
       "      <td>False</td>\n",
       "      <td>False</td>\n",
       "      <td>...</td>\n",
       "      <td>False</td>\n",
       "      <td>False</td>\n",
       "      <td>False</td>\n",
       "      <td>True</td>\n",
       "      <td>False</td>\n",
       "      <td>True</td>\n",
       "      <td>False</td>\n",
       "      <td>False</td>\n",
       "      <td>False</td>\n",
       "      <td>False</td>\n",
       "    </tr>\n",
       "    <tr>\n",
       "      <th>32559</th>\n",
       "      <td>22</td>\n",
       "      <td>9</td>\n",
       "      <td>0</td>\n",
       "      <td>0</td>\n",
       "      <td>20</td>\n",
       "      <td>False</td>\n",
       "      <td>False</td>\n",
       "      <td>True</td>\n",
       "      <td>False</td>\n",
       "      <td>False</td>\n",
       "      <td>...</td>\n",
       "      <td>False</td>\n",
       "      <td>False</td>\n",
       "      <td>False</td>\n",
       "      <td>True</td>\n",
       "      <td>False</td>\n",
       "      <td>True</td>\n",
       "      <td>False</td>\n",
       "      <td>False</td>\n",
       "      <td>False</td>\n",
       "      <td>False</td>\n",
       "    </tr>\n",
       "    <tr>\n",
       "      <th>32560</th>\n",
       "      <td>52</td>\n",
       "      <td>9</td>\n",
       "      <td>15024</td>\n",
       "      <td>0</td>\n",
       "      <td>40</td>\n",
       "      <td>False</td>\n",
       "      <td>False</td>\n",
       "      <td>False</td>\n",
       "      <td>False</td>\n",
       "      <td>False</td>\n",
       "      <td>...</td>\n",
       "      <td>False</td>\n",
       "      <td>False</td>\n",
       "      <td>False</td>\n",
       "      <td>False</td>\n",
       "      <td>True</td>\n",
       "      <td>True</td>\n",
       "      <td>False</td>\n",
       "      <td>False</td>\n",
       "      <td>False</td>\n",
       "      <td>False</td>\n",
       "    </tr>\n",
       "  </tbody>\n",
       "</table>\n",
       "<p>30162 rows × 105 columns</p>\n",
       "</div>"
      ],
      "text/plain": [
       "       age  education-num  capital-gain  capital-loss  hours-per-week  \\\n",
       "0       39             13          2174             0              40   \n",
       "1       50             13             0             0              13   \n",
       "2       38              9             0             0              40   \n",
       "3       53              7             0             0              40   \n",
       "4       28             13             0             0              40   \n",
       "...    ...            ...           ...           ...             ...   \n",
       "32556   27             12             0             0              38   \n",
       "32557   40              9             0             0              40   \n",
       "32558   58              9             0             0              40   \n",
       "32559   22              9             0             0              20   \n",
       "32560   52              9         15024             0              40   \n",
       "\n",
       "       Stategov  Selfempnotinc  Private  Federalgov  Localgov  ...  \\\n",
       "0          True          False    False       False     False  ...   \n",
       "1         False           True    False       False     False  ...   \n",
       "2         False          False     True       False     False  ...   \n",
       "3         False          False     True       False     False  ...   \n",
       "4         False          False     True       False     False  ...   \n",
       "...         ...            ...      ...         ...       ...  ...   \n",
       "32556     False          False     True       False     False  ...   \n",
       "32557     False          False     True       False     False  ...   \n",
       "32558     False          False     True       False     False  ...   \n",
       "32559     False          False     True       False     False  ...   \n",
       "32560     False          False    False       False     False  ...   \n",
       "\n",
       "       Protectiveserv  ArmedForces  Privhouseserv  <=50K   >50K  White  Black  \\\n",
       "0               False        False          False   True  False   True  False   \n",
       "1               False        False          False   True  False   True  False   \n",
       "2               False        False          False   True  False   True  False   \n",
       "3               False        False          False   True  False  False   True   \n",
       "4               False        False          False   True  False  False   True   \n",
       "...               ...          ...            ...    ...    ...    ...    ...   \n",
       "32556           False        False          False   True  False   True  False   \n",
       "32557           False        False          False  False   True   True  False   \n",
       "32558           False        False          False   True  False   True  False   \n",
       "32559           False        False          False   True  False   True  False   \n",
       "32560           False        False          False  False   True   True  False   \n",
       "\n",
       "       AsianPacIslander  AmerIndianEskimo  Other  \n",
       "0                 False             False  False  \n",
       "1                 False             False  False  \n",
       "2                 False             False  False  \n",
       "3                 False             False  False  \n",
       "4                 False             False  False  \n",
       "...                 ...               ...    ...  \n",
       "32556             False             False  False  \n",
       "32557             False             False  False  \n",
       "32558             False             False  False  \n",
       "32559             False             False  False  \n",
       "32560             False             False  False  \n",
       "\n",
       "[30162 rows x 105 columns]"
      ]
     },
     "execution_count": 329,
     "metadata": {},
     "output_type": "execute_result"
    }
   ],
   "source": [
    "dataframe"
   ]
  },
  {
   "cell_type": "code",
   "execution_count": 298,
   "metadata": {},
   "outputs": [
    {
     "data": {
      "text/plain": [
       "Index(['age', 'fnlwgt', 'education-num', 'capital-gain', 'capital-loss',\n",
       "       'hours-per-week', 'target', 'Stategov', 'Selfempnotinc', 'Private',\n",
       "       ...\n",
       "       'Techsupport', 'Craftrepair', 'Protectiveserv', 'ArmedForces',\n",
       "       'Privhouseserv', 'White', 'Black', 'AsianPacIslander',\n",
       "       'AmerIndianEskimo', 'Other'],\n",
       "      dtype='object', length=105)"
      ]
     },
     "execution_count": 298,
     "metadata": {},
     "output_type": "execute_result"
    }
   ],
   "source": [
    "dataframe.columns"
   ]
  },
  {
   "cell_type": "code",
   "execution_count": 279,
   "metadata": {},
   "outputs": [
    {
     "data": {
      "text/plain": [
       " Prof-specialty       4038\n",
       " Craft-repair         4030\n",
       " Exec-managerial      3992\n",
       " Adm-clerical         3721\n",
       " Sales                3584\n",
       " Other-service        3212\n",
       " Machine-op-inspct    1966\n",
       " Transport-moving     1572\n",
       " Handlers-cleaners    1350\n",
       " Farming-fishing       989\n",
       " Tech-support          912\n",
       " Protective-serv       644\n",
       " Priv-house-serv       143\n",
       " Armed-Forces            9\n",
       "Name: occupation, dtype: int64"
      ]
     },
     "execution_count": 279,
     "metadata": {},
     "output_type": "execute_result"
    }
   ],
   "source": [
    "dataframe.occupation.value_counts()"
   ]
  },
  {
   "cell_type": "code",
   "execution_count": 281,
   "metadata": {},
   "outputs": [
    {
     "data": {
      "text/plain": [
       "False    26124\n",
       "True      4038\n",
       "Name: Profspecialty, dtype: int64"
      ]
     },
     "execution_count": 281,
     "metadata": {},
     "output_type": "execute_result"
    }
   ],
   "source": [
    "dataframe.Profspecialty.value_counts()"
   ]
  },
  {
   "cell_type": "code",
   "execution_count": 214,
   "metadata": {},
   "outputs": [
    {
     "data": {
      "text/plain": [
       "array([' United-States', ' Cuba', ' Jamaica', ' India', ' Mexico',\n",
       "       ' Puerto-Rico', ' Honduras', ' England', ' Canada', ' Germany',\n",
       "       ' Iran', ' Philippines', ' Poland', ' Columbia', ' Cambodia',\n",
       "       ' Thailand', ' Ecuador', ' Laos', ' Taiwan', ' Haiti', ' Portugal',\n",
       "       ' Dominican-Republic', ' El-Salvador', ' France', ' Guatemala',\n",
       "       ' Italy', ' China', ' South', ' Japan', ' Yugoslavia', ' Peru',\n",
       "       ' Outlying-US(Guam-USVI-etc)', ' Scotland', ' Trinadad&Tobago',\n",
       "       ' Greece', ' Nicaragua', ' Vietnam', ' Hong', ' Ireland',\n",
       "       ' Hungary', ' Holand-Netherlands'], dtype=object)"
      ]
     },
     "execution_count": 214,
     "metadata": {},
     "output_type": "execute_result"
    }
   ],
   "source": [
    "dataframe.iloc[: , 13].unique()"
   ]
  },
  {
   "cell_type": "code",
   "execution_count": 215,
   "metadata": {},
   "outputs": [
    {
     "data": {
      "text/plain": [
       " United-States                 27504\n",
       " Mexico                          610\n",
       " Philippines                     188\n",
       " Germany                         128\n",
       " Puerto-Rico                     109\n",
       " Canada                          107\n",
       " El-Salvador                     100\n",
       " India                           100\n",
       " Cuba                             92\n",
       " England                          86\n",
       " Jamaica                          80\n",
       " South                            71\n",
       " China                            68\n",
       " Italy                            68\n",
       " Dominican-Republic               67\n",
       " Vietnam                          64\n",
       " Guatemala                        63\n",
       " Japan                            59\n",
       " Columbia                         56\n",
       " Poland                           56\n",
       " Taiwan                           42\n",
       " Haiti                            42\n",
       " Iran                             42\n",
       " Portugal                         34\n",
       " Nicaragua                        33\n",
       " Peru                             30\n",
       " Greece                           29\n",
       " Ecuador                          27\n",
       " France                           27\n",
       " Ireland                          24\n",
       " Hong                             19\n",
       " Trinadad&Tobago                  18\n",
       " Cambodia                         18\n",
       " Laos                             17\n",
       " Thailand                         17\n",
       " Yugoslavia                       16\n",
       " Outlying-US(Guam-USVI-etc)       14\n",
       " Hungary                          13\n",
       " Honduras                         12\n",
       " Scotland                         11\n",
       " Holand-Netherlands                1\n",
       "Name: native-country, dtype: int64"
      ]
     },
     "execution_count": 215,
     "metadata": {},
     "output_type": "execute_result"
    }
   ],
   "source": [
    "dataframe.iloc[: , 13].value_counts()"
   ]
  },
  {
   "cell_type": "code",
   "execution_count": null,
   "metadata": {},
   "outputs": [],
   "source": []
  }
 ],
 "metadata": {
  "kernelspec": {
   "display_name": "Python 3",
   "language": "python",
   "name": "python3"
  },
  "language_info": {
   "codemirror_mode": {
    "name": "ipython",
    "version": 3
   },
   "file_extension": ".py",
   "mimetype": "text/x-python",
   "name": "python",
   "nbconvert_exporter": "python",
   "pygments_lexer": "ipython3",
   "version": "3.8.3"
  }
 },
 "nbformat": 4,
 "nbformat_minor": 4
}
